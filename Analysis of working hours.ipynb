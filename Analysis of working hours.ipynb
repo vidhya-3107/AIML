{
 "cells": [
  {
   "cell_type": "code",
   "execution_count": 10,
   "id": "51642b7d-2c4c-4439-a715-9bfea8c30602",
   "metadata": {},
   "outputs": [],
   "source": [
    "import numpy as  np\n",
    "import pandas as pd"
   ]
  },
  {
   "cell_type": "code",
   "execution_count": 11,
   "id": "524453fe-bd77-44a0-9870-3fd5114b4428",
   "metadata": {},
   "outputs": [],
   "source": [
    "np.random.seed(42)"
   ]
  },
  {
   "cell_type": "code",
   "execution_count": 12,
   "id": "69e40eb1-74a1-472e-8211-179bed91bae5",
   "metadata": {},
   "outputs": [],
   "source": [
    "employees=[f\"Employee_{i}\"for i in range(1,31)]"
   ]
  },
  {
   "cell_type": "code",
   "execution_count": 13,
   "id": "93100d55-2e79-4e44-9eee-933570ecbfaa",
   "metadata": {},
   "outputs": [],
   "source": [
    "date=pd.date_range(start=\"2025-07-01\",periods=30,freq=\"D\")"
   ]
  },
  {
   "cell_type": "code",
   "execution_count": 14,
   "id": "33c50943-9589-45b3-a0c2-ec9f8d3325a1",
   "metadata": {},
   "outputs": [],
   "source": [
    "date=pd.DataFrame({\n",
    "    \"Date\":np.tile(date,len(employees)),\n",
    "    \"Employee_id\":np.repeat(employees,len(date)),\n",
    "    \"Working_Hours\":np.random.normal(loc=20,scale=5,size=len(date)*len(employees))\n",
    "})"
   ]
  },
  {
   "cell_type": "code",
   "execution_count": 15,
   "id": "a2b2caa9-e0cf-4882-9697-4114da1c0e4e",
   "metadata": {},
   "outputs": [
    {
     "data": {
      "text/html": [
       "<div>\n",
       "<style scoped>\n",
       "    .dataframe tbody tr th:only-of-type {\n",
       "        vertical-align: middle;\n",
       "    }\n",
       "\n",
       "    .dataframe tbody tr th {\n",
       "        vertical-align: top;\n",
       "    }\n",
       "\n",
       "    .dataframe thead th {\n",
       "        text-align: right;\n",
       "    }\n",
       "</style>\n",
       "<table border=\"1\" class=\"dataframe\">\n",
       "  <thead>\n",
       "    <tr style=\"text-align: right;\">\n",
       "      <th></th>\n",
       "      <th>Date</th>\n",
       "      <th>Employee_id</th>\n",
       "      <th>Working_Hours</th>\n",
       "    </tr>\n",
       "  </thead>\n",
       "  <tbody>\n",
       "    <tr>\n",
       "      <th>0</th>\n",
       "      <td>2025-07-01</td>\n",
       "      <td>Employee_1</td>\n",
       "      <td>22.483571</td>\n",
       "    </tr>\n",
       "    <tr>\n",
       "      <th>1</th>\n",
       "      <td>2025-07-02</td>\n",
       "      <td>Employee_1</td>\n",
       "      <td>19.308678</td>\n",
       "    </tr>\n",
       "    <tr>\n",
       "      <th>2</th>\n",
       "      <td>2025-07-03</td>\n",
       "      <td>Employee_1</td>\n",
       "      <td>23.238443</td>\n",
       "    </tr>\n",
       "    <tr>\n",
       "      <th>3</th>\n",
       "      <td>2025-07-04</td>\n",
       "      <td>Employee_1</td>\n",
       "      <td>27.615149</td>\n",
       "    </tr>\n",
       "    <tr>\n",
       "      <th>4</th>\n",
       "      <td>2025-07-05</td>\n",
       "      <td>Employee_1</td>\n",
       "      <td>18.829233</td>\n",
       "    </tr>\n",
       "    <tr>\n",
       "      <th>...</th>\n",
       "      <td>...</td>\n",
       "      <td>...</td>\n",
       "      <td>...</td>\n",
       "    </tr>\n",
       "    <tr>\n",
       "      <th>895</th>\n",
       "      <td>2025-07-26</td>\n",
       "      <td>Employee_30</td>\n",
       "      <td>23.243549</td>\n",
       "    </tr>\n",
       "    <tr>\n",
       "      <th>896</th>\n",
       "      <td>2025-07-27</td>\n",
       "      <td>Employee_30</td>\n",
       "      <td>19.164410</td>\n",
       "    </tr>\n",
       "    <tr>\n",
       "      <th>897</th>\n",
       "      <td>2025-07-28</td>\n",
       "      <td>Employee_30</td>\n",
       "      <td>20.733568</td>\n",
       "    </tr>\n",
       "    <tr>\n",
       "      <th>898</th>\n",
       "      <td>2025-07-29</td>\n",
       "      <td>Employee_30</td>\n",
       "      <td>26.032545</td>\n",
       "    </tr>\n",
       "    <tr>\n",
       "      <th>899</th>\n",
       "      <td>2025-07-30</td>\n",
       "      <td>Employee_30</td>\n",
       "      <td>15.915322</td>\n",
       "    </tr>\n",
       "  </tbody>\n",
       "</table>\n",
       "<p>900 rows × 3 columns</p>\n",
       "</div>"
      ],
      "text/plain": [
       "          Date  Employee_id  Working_Hours\n",
       "0   2025-07-01   Employee_1      22.483571\n",
       "1   2025-07-02   Employee_1      19.308678\n",
       "2   2025-07-03   Employee_1      23.238443\n",
       "3   2025-07-04   Employee_1      27.615149\n",
       "4   2025-07-05   Employee_1      18.829233\n",
       "..         ...          ...            ...\n",
       "895 2025-07-26  Employee_30      23.243549\n",
       "896 2025-07-27  Employee_30      19.164410\n",
       "897 2025-07-28  Employee_30      20.733568\n",
       "898 2025-07-29  Employee_30      26.032545\n",
       "899 2025-07-30  Employee_30      15.915322\n",
       "\n",
       "[900 rows x 3 columns]"
      ]
     },
     "execution_count": 15,
     "metadata": {},
     "output_type": "execute_result"
    }
   ],
   "source": [
    "df =pd.DataFrame(date)\n",
    "df"
   ]
  },
  {
   "cell_type": "code",
   "execution_count": 16,
   "id": "50108e2c-8af8-4f58-8b0a-40983660f71f",
   "metadata": {},
   "outputs": [],
   "source": [
    "df.to_csv(\"employee_working_hours.csv\",index=False)"
   ]
  },
  {
   "cell_type": "code",
   "execution_count": 17,
   "id": "fd484b81-d904-4d4b-a199-00efb040121e",
   "metadata": {},
   "outputs": [],
   "source": [
    "df_csv=pd.read_csv(\"employee_working_hours.csv\")"
   ]
  },
  {
   "cell_type": "code",
   "execution_count": 18,
   "id": "612ae9da-cd9c-4f8e-813b-002c184863ef",
   "metadata": {},
   "outputs": [
    {
     "name": "stdout",
     "output_type": "stream",
     "text": [
      "         Date Employee_id  Working_Hours\n",
      "0  2025-07-01  Employee_1      22.483571\n",
      "1  2025-07-02  Employee_1      19.308678\n",
      "2  2025-07-03  Employee_1      23.238443\n",
      "3  2025-07-04  Employee_1      27.615149\n",
      "4  2025-07-05  Employee_1      18.829233\n",
      "       Working_Hours\n",
      "count     900.000000\n",
      "mean       20.091926\n",
      "std         4.904530\n",
      "min         3.793663\n",
      "25%        16.745590\n",
      "50%        20.092131\n",
      "75%        23.246901\n",
      "max        39.263657\n",
      "<bound method IndexOpsMixin.nunique of 0       Employee_1\n",
      "1       Employee_1\n",
      "2       Employee_1\n",
      "3       Employee_1\n",
      "4       Employee_1\n",
      "          ...     \n",
      "895    Employee_30\n",
      "896    Employee_30\n",
      "897    Employee_30\n",
      "898    Employee_30\n",
      "899    Employee_30\n",
      "Name: Employee_id, Length: 900, dtype: object>\n"
     ]
    }
   ],
   "source": [
    "print(df_csv.head())\n",
    "print(df_csv.describe())\n",
    "print(df_csv[\"Employee_id\"].nunique)"
   ]
  },
  {
   "cell_type": "code",
   "execution_count": 22,
   "id": "22c18047-f11d-43a6-8933-66deb74e407d",
   "metadata": {},
   "outputs": [
    {
     "data": {
      "text/plain": [
       "Employee_id\n",
       "Employee_30    662.606134\n",
       "Employee_21    649.712002\n",
       "Employee_11    642.282391\n",
       "Employee_6     641.817993\n",
       "Employee_13    634.225898\n",
       "Employee_29    631.906799\n",
       "Employee_26    628.785713\n",
       "Employee_28    622.726849\n",
       "Employee_10    616.074819\n",
       "Employee_20    613.164300\n",
       "Employee_7     609.838848\n",
       "Employee_8     607.205434\n",
       "Employee_16    606.985293\n",
       "Employee_14    604.314773\n",
       "Employee_27    603.784449\n",
       "Employee_3     601.932716\n",
       "Employee_4     596.962256\n",
       "Employee_24    594.304245\n",
       "Employee_15    591.394231\n",
       "Employee_19    586.585246\n",
       "Employee_5     585.756283\n",
       "Employee_2     581.825629\n",
       "Employee_23    580.485134\n",
       "Employee_22    579.695120\n",
       "Employee_9     578.485218\n",
       "Employee_1     571.777966\n",
       "Employee_17    570.315585\n",
       "Employee_25    569.284734\n",
       "Employee_12    569.016727\n",
       "Employee_18    549.480581\n",
       "Name: Working_Hours, dtype: float64"
      ]
     },
     "execution_count": 22,
     "metadata": {},
     "output_type": "execute_result"
    }
   ],
   "source": [
    " total_hours = df_csv.groupby(\"Employee_id\")[\"Working_Hours\"].sum().sort_values(ascending=False)\n",
    "total_hours"
   ]
  },
  {
   "cell_type": "code",
   "execution_count": 23,
   "id": "085b34c6-a41a-4329-b115-c308d18a118a",
   "metadata": {},
   "outputs": [],
   "source": [
    "avg_daily = df_csv.groupby(\"Employee_id\")[\"Working_Hours\"].mean()"
   ]
  },
  {
   "cell_type": "code",
   "execution_count": 25,
   "id": "612f3525-307a-4135-bd3d-51f61edfed1e",
   "metadata": {},
   "outputs": [
    {
     "name": "stdout",
     "output_type": "stream",
     "text": [
      "         Date Employee_id  Working_Hours  Low_Hour_Flag  High_Hour_Flag\n",
      "0  2025-07-01  Employee_1      22.483571          False            True\n",
      "1  2025-07-02  Employee_1      19.308678          False            True\n",
      "2  2025-07-03  Employee_1      23.238443          False            True\n",
      "3  2025-07-04  Employee_1      27.615149          False            True\n",
      "4  2025-07-05  Employee_1      18.829233          False            True\n"
     ]
    }
   ],
   "source": [
    "threshold_low = 5\n",
    "threshold_high = 9\n",
    "df_csv[\"Low_Hour_Flag\"] = df_csv[\"Working_Hours\"] < threshold_low\n",
    "df_csv[\"High_Hour_Flag\"] = df_csv[\"Working_Hours\"] > threshold_high\n",
    "\n",
    "#view flagged rows\n",
    "print(df_csv[df_csv[\"Low_Hour_Flag\"] | df_csv[\"High_Hour_Flag\"]].head())"
   ]
  },
  {
   "cell_type": "code",
   "execution_count": 26,
   "id": "5d5c788f-ae54-42cf-80c3-f47b27b4f87d",
   "metadata": {},
   "outputs": [],
   "source": [
    "import matplotlib.pyplot as plt\n",
    "import seaborn as sns"
   ]
  },
  {
   "cell_type": "code",
   "execution_count": 29,
   "id": "3521f31f-2fde-4a67-8881-8c48f853a4fa",
   "metadata": {},
   "outputs": [
    {
     "data": {
      "image/png": "[encoded data removed]",
      "text/plain": [
       "<Figure size 1000x600 with 1 Axes>"
      ]
     },
     "metadata": {},
     "output_type": "display_data"
    }
   ],
   "source": [
    "top10=total_hours.head(10)\n",
    "plt.figure(figsize=(10,6))\n",
    "sns.barplot(x=top10.index,y=top10.values)\n",
    "plt.xticks(rotation=45)\n",
    "plt.title(\"Top 10 Employee by Total working hours\")\n",
    "plt.ylabel(\"Hours\")\n",
    "plt.tight_layout()\n",
    "plt.show()"
   ]
  },
  {
   "cell_type": "code",
   "execution_count": null,
   "id": "e5a3ab48-bfca-419d-be81-cbc8738e38fc",
   "metadata": {},
   "outputs": [],
   "source": [
    "row=df.iloc[30]\n",
    "row"
   ]
  }
 ],
 "metadata": {
  "kernelspec": {
   "display_name": "Python 3 (ipykernel)",
   "language": "python",
   "name": "python3"
  },
  "language_info": {
   "codemirror_mode": {
    "name": "ipython",
    "version": 3
   },
   "file_extension": ".py",
   "mimetype": "text/x-python",
   "name": "python",
   "nbconvert_exporter": "python",
   "pygments_lexer": "ipython3",
   "version": "3.13.5"
  }
 },
 "nbformat": 4,
 "nbformat_minor": 5
}
