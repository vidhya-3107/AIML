{
 "cells": [
  {
   "cell_type": "code",
   "execution_count": 1,
   "id": "726049c1-e988-453d-81f6-6c302b8315e1",
   "metadata": {},
   "outputs": [],
   "source": [
    "import numpy as np"
   ]
  },
  {
   "cell_type": "code",
   "execution_count": 2,
   "id": "3081ee09-4cbb-499f-99e2-5d5f7a134bb6",
   "metadata": {},
   "outputs": [],
   "source": [
    "import pandas as pd"
   ]
  },
  {
   "cell_type": "code",
   "execution_count": 3,
   "id": "b92ba9dc-9a74-453e-857d-66e2cfe131eb",
   "metadata": {},
   "outputs": [],
   "source": [
    "import matplotlib.pyplot as plt"
   ]
  },
  {
   "cell_type": "code",
   "execution_count": 6,
   "id": "db353447-31e7-4ce8-a939-02525f9c1bd4",
   "metadata": {},
   "outputs": [],
   "source": [
    "def detect_duplicates(id_array, start_date=\"2025-07-01\", visualize=False, show_summary=True):\n",
    "       \"\"\"\n",
    "   next\n",
    ".,\n",
    "    \"\"\""
   ]
  },
  {
   "cell_type": "code",
   "execution_count": 7,
   "id": "5537cf3f-9684-429e-a742-3cc4db064568",
   "metadata": {},
   "outputs": [],
   "source": [
    "id_array=[1,0,0,3,0,2,4,2,2,2,2]\n",
    "num_entries = len(id_array)\n",
    "start_date=\"2025-07-01\"\n",
    "dates = pd.date_range(start=start_date, periods=num_entries, freq=\"D\")"
   ]
  },
  {
   "cell_type": "code",
   "execution_count": 8,
   "id": "ae469128-7ee9-43ec-87ac-ae74d12a159a",
   "metadata": {},
   "outputs": [],
   "source": [
    "_, first_indices = np.unique(id_array, return_index=True)"
   ]
  },
  {
   "cell_type": "code",
   "execution_count": 9,
   "id": "ac131959-eb67-487f-94ed-68d4e4fa8ad3",
   "metadata": {},
   "outputs": [],
   "source": [
    "is_duplicate = np.ones_like(id_array, dtype=bool)\n",
    "is_duplicate[first_indices] = False"
   ]
  },
  {
   "cell_type": "code",
   "execution_count": 10,
   "id": "50d88fb3-0a98-4b9f-9305-8293f9a7fd76",
   "metadata": {},
   "outputs": [],
   "source": [
    "df = pd.DataFrame({\n",
    "        \"Date\": dates,\n",
    "        \"ID\": id_array,\n",
    "        \"Is_Duplicate\": is_duplicate\n",
    "    })"
   ]
  },
  {
   "cell_type": "code",
   "execution_count": 11,
   "id": "3eb64763-5ff1-4bb7-af00-5b14574ca3ea",
   "metadata": {},
   "outputs": [
    {
     "name": "stdout",
     "output_type": "stream",
     "text": [
      " Total Entries: 11\n",
      " Unique IDs   : 5\n",
      " Duplicates   : 6\n"
     ]
    }
   ],
   "source": [
    "total_duplicates = np.sum(is_duplicate)\n",
    "unique_ids = len(np.unique(id_array))\n",
    "print(f\" Total Entries: {num_entries}\")\n",
    "print(f\" Unique IDs   : {unique_ids}\")\n",
    "print(f\" Duplicates   : {total_duplicates}\")"
   ]
  },
  {
   "cell_type": "code",
   "execution_count": 13,
   "id": "7bedf156-c5ba-44c5-8001-b1986a277911",
   "metadata": {},
   "outputs": [
    {
     "name": "stdin",
     "output_type": "stream",
     "text": [
      " 3\n",
      " 1 0 0 3 0 2 4 2 2 2 2\n"
     ]
    },
    {
     "name": "stdout",
     "output_type": "stream",
     "text": [
      "[False  True  True False  True  True  True  True  True  True  True]\n"
     ]
    },
    {
     "name": "stdin",
     "output_type": "stream",
     "text": [
      " 2\n"
     ]
    },
    {
     "name": "stdout",
     "output_type": "stream",
     "text": [
      "[ True]\n"
     ]
    },
    {
     "name": "stdin",
     "output_type": "stream",
     "text": [
      " 1 0 0 3 0 2 4 2 2 2 2\n"
     ]
    },
    {
     "name": "stdout",
     "output_type": "stream",
     "text": [
      "[False  True  True False  True  True  True  True  True  True  True]\n"
     ]
    }
   ],
   "source": [
    "import numpy as np\n",
    "\n",
    "def check_something(arr):\n",
    "    result = []\n",
    "    for x in arr:\n",
    "        if x % 2 == 0:\n",
    "            result.append(True)\n",
    "        else:\n",
    "            result.append(False)\n",
    "    return np.array(result)\n",
    "\n",
    "T = int(input())  # <-- This should just be a number, like 2\n",
    "for _ in range(T):\n",
    "    arr = np.array(list(map(int, input().split())))\n",
    "    print(check_something(arr))"
   ]
  },
  {
   "cell_type": "code",
   "execution_count": 1,
   "id": "23aceeea-022c-4646-a5b1-2ed48b4d4053",
   "metadata": {},
   "outputs": [
    {
     "data": {
      "image/png": "[encoded data removed]",
      "text/plain": [
       "<Figure size 1000x500 with 1 Axes>"
      ]
     },
     "metadata": {},
     "output_type": "display_data"
    }
   ],
   "source": [
    "import pandas as pd\n",
    "import matplotlib.pyplot as plt\n",
    "import seaborn as sns\n",
    "\n",
    "# Example DataFrame\n",
    "df = pd.DataFrame({\n",
    "    'ID': ['A', 'B', 'C', 'A', 'D', 'C', 'E']\n",
    "})\n",
    "\n",
    "# Count duplicates\n",
    "duplicates = df['ID'].duplicated(keep=False)  # True for all instances of duplicates\n",
    "df['is_duplicate'] = duplicates\n",
    "\n",
    "# Count occurrences\n",
    "duplicate_counts = df['ID'][df['is_duplicate']].value_counts()\n",
    "\n",
    "# Prepare data for plotting\n",
    "arr = duplicate_counts.index\n",
    "is_duplicates = duplicate_counts.values\n",
    "\n",
    "# Plot\n",
    "plt.figure(figsize=(10, 5))\n",
    "sns.barplot(x=arr, y=is_duplicates)\n",
    "plt.xticks(rotation=45)\n",
    "plt.title(\"Duplicate ID Counts\")\n",
    "plt.xlabel(\"ID\")\n",
    "plt.ylabel(\"Count\")\n",
    "plt.tight_layout()\n",
    "plt.show()\n",
    "\n"
   ]
  },
  {
   "cell_type": "code",
   "execution_count": null,
   "id": "7245902c-708e-470e-a724-24cc09a76572",
   "metadata": {},
   "outputs": [],
   "source": []
  }
 ],
 "metadata": {
  "kernelspec": {
   "display_name": "Python 3 (ipykernel)",
   "language": "python",
   "name": "python3"
  },
  "language_info": {
   "codemirror_mode": {
    "name": "ipython",
    "version": 3
   },
   "file_extension": ".py",
   "mimetype": "text/x-python",
   "name": "python",
   "nbconvert_exporter": "python",
   "pygments_lexer": "ipython3",
   "version": "3.13.5"
  }
 },
 "nbformat": 4,
 "nbformat_minor": 5
}
